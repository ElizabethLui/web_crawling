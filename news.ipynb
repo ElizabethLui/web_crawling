{
 "cells": [
  {
   "cell_type": "markdown",
   "metadata": {},
   "source": [
    "## web crawling project\n",
    "\n",
    "This project's aims are two fold. First, it cleans a messy, unstructured text file to find urls which link to an individual news article. Second, it loops over the list of urls (n=190) to extract useful information - i.e. title of news, publication date, as well as the tags used to classified the news. "
   ]
  },
  {
   "cell_type": "code",
   "execution_count": 2,
   "metadata": {},
   "outputs": [],
   "source": [
    "# import libraries\n",
    "from bs4 import BeautifulSoup\n",
    "import numpy as np\n",
    "import pandas as pd\n",
    "from time import sleep\n",
    "from random import randint\n",
    "from selenium import webdriver\n",
    "from selenium.webdriver.common.keys import Keys"
   ]
  },
  {
   "cell_type": "code",
   "execution_count": 3,
   "metadata": {},
   "outputs": [],
   "source": [
    "driver=webdriver.Chrome() #load the browser"
   ]
  },
  {
   "cell_type": "code",
   "execution_count": 249,
   "metadata": {},
   "outputs": [],
   "source": [
    "# try with only one page in hkfp\n",
    "pages = np.arange(1, 3, 1)\n",
    "data=[]\n",
    "\n",
    "for page in pages:\n",
    "    \n",
    "    page=\"https://hongkongfp.com/2021/07/09/top-hong-kong-officials-confirm-fines-for-covid-19-rule-breach-at-lavish-dinner-in-wan-chai-club/\"\n",
    "    driver = webdriver.Chrome()\n",
    "    driver.get(page)  \n",
    "    sleep(randint(2,10))\n",
    "    soup = BeautifulSoup(driver.page_source, 'html.parser')\n",
    "    my_table = soup.find_all(class_=[\"tags-links\"])\n",
    "\n",
    "    for tag in my_table:\n",
    "        data.append(tag.get_text())\n"
   ]
  },
  {
   "cell_type": "code",
   "execution_count": 250,
   "metadata": {},
   "outputs": [
    {
     "data": {
      "text/plain": [
       "['Tagged: Au Ka-wang,\\xa0Civil Service Bureau,\\xa0Covid-19,\\xa0Customs and Excise Department,\\xa0Hermes Tang,\\xa0ICAC,\\xa0Immigration Department,\\xa0Security Bureau,\\xa0Sonny Au,\\xa0Stephen Char,\\xa0Wan Chai',\n",
       " 'Tagged: Au Ka-wang,\\xa0Civil Service Bureau,\\xa0Covid-19,\\xa0Customs and Excise Department,\\xa0Hermes Tang,\\xa0ICAC,\\xa0Immigration Department,\\xa0Security Bureau,\\xa0Sonny Au,\\xa0Stephen Char,\\xa0Wan Chai']"
      ]
     },
     "execution_count": 250,
     "metadata": {},
     "output_type": "execute_result"
    }
   ],
   "source": [
    "# try to see if the tags are extracted correctly \n",
    "data"
   ]
  },
  {
   "cell_type": "code",
   "execution_count": 4,
   "metadata": {},
   "outputs": [],
   "source": [
    "#extract only the urls in the text file \n",
    "\n",
    "import re\n",
    "\n",
    "with open('news links.txt') as f:\n",
    "    urls = f.read()\n",
    "    links = re.findall('\"((http)s?://.*?)\"', urls)\n",
    "\n",
    "data2 = [] #save all urls extracted to a list \n",
    "\n",
    "for url in links:\n",
    "    data2.append(url)"
   ]
  },
  {
   "cell_type": "code",
   "execution_count": 5,
   "metadata": {},
   "outputs": [],
   "source": [
    "res = [str(x) + str(y) for x, y in data2]"
   ]
  },
  {
   "cell_type": "code",
   "execution_count": 6,
   "metadata": {},
   "outputs": [],
   "source": [
    "res2 = [str(x) for x, y in data2]"
   ]
  },
  {
   "cell_type": "code",
   "execution_count": 7,
   "metadata": {},
   "outputs": [
    {
     "data": {
      "text/plain": [
       "['https://hongkongfp.com/2021/07/07/reports-of-tech-giants-threatening-to-leave-hong-kong-over-privacy-law-misleading-says-govt/',\n",
       " 'https://www.hkcnews.com/article/43074/%E7%B5%82%E5%AF%A9%E6%B3%95%E9%99%A2-%E9%BB%8E%E6%99%BA%E8%8B%B1-%E6%99%AE%E9%80%9A%E6%B3%95-43124/%E3%80%90%E5%9C%8B%E5%AE%89%E6%B3%95%E5%AF%A6%E6%96%BD1%E5%B9%B4%E6%AA%A2%E8%A6%96%E3%80%91%E6%99%AE%E9%80%9A%E6%B3%95%E5%B0%8D%E5%9C%8B%E5%AE%89%E6%B3%95%E9%99%90%E6%AC%8A%E5%A4%9A%E8%90%BD%E7%A9%BA-%E6%88%B4%E5%95%9F%E6%80%9D%E5%98%86%E5%A6%82%E8%BF%B7%E9%9C%A7%E4%B8%AD%E9%87%8D%E5%AD%B8%E8%AA%9E%E8%A8%80',\n",
       " 'https://hongkongfp.com/2021/07/06/security-law-at-least-8-hong-kong-pro-democracy-groups-disband-in-past-2-weeks-including-lawyers-group/?fbclid=IwAR3Er8AZQFIOySXBwHBiuSfbbm0rQnwtXMXAs0PlaExt2aVWg9ws9x2J0Do',\n",
       " 'https://hongkongfp.com/2021/07/06/hong-kongs-new-number-two-handed-second-key-role-as-head-of-powerful-election-vetting-body/',\n",
       " 'https://www.info.gov.hk/gia/general/202107/06/P2021070600318.htm']"
      ]
     },
     "execution_count": 7,
     "metadata": {},
     "output_type": "execute_result"
    }
   ],
   "source": [
    "res2[0:5]"
   ]
  },
  {
   "cell_type": "code",
   "execution_count": 8,
   "metadata": {},
   "outputs": [],
   "source": [
    "#filter the list and get only news from HKFP\n",
    "\n",
    "res3 = [x for x in res2 if \"hongkongfp\" in x]"
   ]
  },
  {
   "cell_type": "code",
   "execution_count": 9,
   "metadata": {},
   "outputs": [
    {
     "data": {
      "text/plain": [
       "190"
      ]
     },
     "execution_count": 9,
     "metadata": {},
     "output_type": "execute_result"
    }
   ],
   "source": [
    "#check the length of the cleaned list \n",
    "\n",
    "len(res3)"
   ]
  },
  {
   "cell_type": "code",
   "execution_count": 10,
   "metadata": {},
   "outputs": [
    {
     "data": {
      "text/plain": [
       "'https://hongkongfp.com/2021/07/07/reports-of-tech-giants-threatening-to-leave-hong-kong-over-privacy-law-misleading-says-govt/'"
      ]
     },
     "execution_count": 10,
     "metadata": {},
     "output_type": "execute_result"
    }
   ],
   "source": [
    "#check if cleaning works\n",
    "\n",
    "res3[0] "
   ]
  },
  {
   "cell_type": "code",
   "execution_count": 324,
   "metadata": {},
   "outputs": [],
   "source": [
    "# try with only one page in hkfp\n",
    "pages = np.arange(1, 3, 1)\n",
    "data=[]\n",
    "\n",
    "for page in pages:\n",
    "    \n",
    "    page=\"https://hongkongfp.com/2021/07/06/chief-exec-carrie-lam-claims-press-freedom-bolstered-by-security-law-as-watchdog-deems-her-2021-press-freedom-predator/\"\n",
    "    driver = webdriver.Chrome()\n",
    "    driver.get(page)  \n",
    "    sleep(randint(2,10))\n",
    "    soup = BeautifulSoup(driver.page_source, 'html.parser')\n",
    "    \n",
    "    my_table3 = soup.find_all(class_=['entry-date published'])\n",
    "    my_table4 = soup.find_all(class_=['tags-links'])\n",
    "    my_table2 = soup.find(class_=['entry-title']) or soup.find(class_=['entry-title entry-title--with-subtitle'])\n",
    "\n",
    "    for title in my_table2:\n",
    "        data.append(title)\n",
    "\n",
    "    for date in my_table3:\n",
    "        data.append(date.text.strip())\n",
    "    \n",
    "    for tag in my_table4:\n",
    "        data.append(tag.text.strip())\n"
   ]
  },
  {
   "cell_type": "code",
   "execution_count": 13,
   "metadata": {},
   "outputs": [],
   "source": [
    "#actual loop over the list of urls & append data into a list \n",
    "\n",
    "data3 =[]\n",
    "\n",
    "for i in range(0,190):\n",
    "    url = res3[i]\n",
    "    driver2 = webdriver.Chrome()\n",
    "    driver2.get(url)  \n",
    "    sleep(randint(10,20))\n",
    "    soup = BeautifulSoup(driver2.page_source, 'html.parser')\n",
    "    \n",
    "    my_table2 = soup.find(class_=['entry-title']) or soup.find_all(class_=['entry-title entry-title--with-subtitle'])\n",
    "    my_table3 = soup.find_all(class_=['entry-date published'])\n",
    "    my_table4 = soup.find_all(class_=['tags-links'])\n",
    "   \n",
    "    for title in my_table2:\n",
    "        data3.append(title)\n",
    "\n",
    "    for date in my_table3:\n",
    "        data3.append(date.text.strip())\n",
    "    \n",
    "    for tag in my_table4:\n",
    "        data3.append(tag.text.strip())\n",
    "    \n"
   ]
  },
  {
   "cell_type": "code",
   "execution_count": 20,
   "metadata": {},
   "outputs": [
    {
     "data": {
      "text/plain": [
       "567"
      ]
     },
     "execution_count": 20,
     "metadata": {},
     "output_type": "execute_result"
    }
   ],
   "source": [
    "len(data3)"
   ]
  },
  {
   "cell_type": "code",
   "execution_count": 30,
   "metadata": {},
   "outputs": [],
   "source": [
    "#save results into a dataframe for analysis later\n",
    "df=pd.DataFrame(data3)"
   ]
  },
  {
   "cell_type": "code",
   "execution_count": 31,
   "metadata": {},
   "outputs": [],
   "source": [
    "#reshape the dataframe and add cooresponding column names\n",
    "df_reshape = pd.DataFrame(np.reshape(df.values,(189,3)), columns=['title','date','tags'])"
   ]
  },
  {
   "cell_type": "code",
   "execution_count": 210,
   "metadata": {},
   "outputs": [],
   "source": [
    "# drop duplicates \n",
    "df_reshape = df_reshape.drop_duplicates()"
   ]
  },
  {
   "cell_type": "code",
   "execution_count": 32,
   "metadata": {},
   "outputs": [
    {
     "data": {
      "text/html": [
       "<div>\n",
       "<style scoped>\n",
       "    .dataframe tbody tr th:only-of-type {\n",
       "        vertical-align: middle;\n",
       "    }\n",
       "\n",
       "    .dataframe tbody tr th {\n",
       "        vertical-align: top;\n",
       "    }\n",
       "\n",
       "    .dataframe thead th {\n",
       "        text-align: right;\n",
       "    }\n",
       "</style>\n",
       "<table border=\"1\" class=\"dataframe\">\n",
       "  <thead>\n",
       "    <tr style=\"text-align: right;\">\n",
       "      <th></th>\n",
       "      <th>title</th>\n",
       "      <th>date</th>\n",
       "      <th>tags</th>\n",
       "    </tr>\n",
       "  </thead>\n",
       "  <tbody>\n",
       "    <tr>\n",
       "      <th>0</th>\n",
       "      <td>\\n\\t\\t\\tReports of tech giants threatening to ...</td>\n",
       "      <td>13:16, 7 July 2021</td>\n",
       "      <td>Tagged: Asia Internet Coalition, Carrie Lam, C...</td>\n",
       "    </tr>\n",
       "    <tr>\n",
       "      <th>1</th>\n",
       "      <td>\\n\\t\\t\\tSecurity law: At least 8 Hong Kong pro...</td>\n",
       "      <td>08:00, 6 July 2021</td>\n",
       "      <td>Tagged: Alan Wong, Billy Li, Community Sha Tin...</td>\n",
       "    </tr>\n",
       "    <tr>\n",
       "      <th>2</th>\n",
       "      <td>\\n\\t\\t\\tHong Kong’s new number two handed seco...</td>\n",
       "      <td>23:49, 6 July 2021</td>\n",
       "      <td>Tagged: Carrie Lam, Caspar Tsui, China Liaison...</td>\n",
       "    </tr>\n",
       "    <tr>\n",
       "      <th>3</th>\n",
       "      <td>\\n\\t\\t\\tChief Exec. Carrie Lam claims press fr...</td>\n",
       "      <td>12:13, 6 July 2021</td>\n",
       "      <td>Tagged: Apple Daily, Carrie Lam, Christophe De...</td>\n",
       "    </tr>\n",
       "    <tr>\n",
       "      <th>4</th>\n",
       "      <td>\\n\\t\\t\\tThe Pulse with Steve Vines is latest n...</td>\n",
       "      <td>07:00, 5 July 2021</td>\n",
       "      <td>Tagged: Press Freedom, RTHK, Steve Vines</td>\n",
       "    </tr>\n",
       "    <tr>\n",
       "      <th>...</th>\n",
       "      <td>...</td>\n",
       "      <td>...</td>\n",
       "      <td>...</td>\n",
       "    </tr>\n",
       "    <tr>\n",
       "      <th>184</th>\n",
       "      <td>\\n\\t\\t\\tPedagogy of the oppressed: We need to ...</td>\n",
       "      <td>09:00, 22 May 2020</td>\n",
       "      <td>Tagged: Agnes Chow, Carrie Lam, Censorship, Ch...</td>\n",
       "    </tr>\n",
       "    <tr>\n",
       "      <th>185</th>\n",
       "      <td>\\n\\t\\t\\tHong Kong teachers fear retribution fo...</td>\n",
       "      <td>08:00, 17 January 2020</td>\n",
       "      <td>Tagged: China Extradition, Education Bureau, F...</td>\n",
       "    </tr>\n",
       "    <tr>\n",
       "      <th>186</th>\n",
       "      <td>\\n\\t\\t\\tHong Kong teachers risk punishment if ...</td>\n",
       "      <td>10:00, 21 December 2019</td>\n",
       "      <td>Tagged: China Extradition, Education Bureau, I...</td>\n",
       "    </tr>\n",
       "    <tr>\n",
       "      <th>187</th>\n",
       "      <td>\\n\\t\\t\\tHong Kong Education Bureau ‘considerin...</td>\n",
       "      <td>11:51, 11 December 2019</td>\n",
       "      <td>Tagged: Carrie Lam, China Extradition, Educati...</td>\n",
       "    </tr>\n",
       "    <tr>\n",
       "      <th>188</th>\n",
       "      <td>\\n\\t\\t\\tFearing political censorship, groups u...</td>\n",
       "      <td>12:36, 23 April 2018</td>\n",
       "      <td>Tagged: Demosisto, Education Bureau, Hong Kong...</td>\n",
       "    </tr>\n",
       "  </tbody>\n",
       "</table>\n",
       "<p>189 rows × 3 columns</p>\n",
       "</div>"
      ],
      "text/plain": [
       "                                                 title  \\\n",
       "0    \\n\\t\\t\\tReports of tech giants threatening to ...   \n",
       "1    \\n\\t\\t\\tSecurity law: At least 8 Hong Kong pro...   \n",
       "2    \\n\\t\\t\\tHong Kong’s new number two handed seco...   \n",
       "3    \\n\\t\\t\\tChief Exec. Carrie Lam claims press fr...   \n",
       "4    \\n\\t\\t\\tThe Pulse with Steve Vines is latest n...   \n",
       "..                                                 ...   \n",
       "184  \\n\\t\\t\\tPedagogy of the oppressed: We need to ...   \n",
       "185  \\n\\t\\t\\tHong Kong teachers fear retribution fo...   \n",
       "186  \\n\\t\\t\\tHong Kong teachers risk punishment if ...   \n",
       "187  \\n\\t\\t\\tHong Kong Education Bureau ‘considerin...   \n",
       "188  \\n\\t\\t\\tFearing political censorship, groups u...   \n",
       "\n",
       "                        date  \\\n",
       "0         13:16, 7 July 2021   \n",
       "1         08:00, 6 July 2021   \n",
       "2         23:49, 6 July 2021   \n",
       "3         12:13, 6 July 2021   \n",
       "4         07:00, 5 July 2021   \n",
       "..                       ...   \n",
       "184       09:00, 22 May 2020   \n",
       "185   08:00, 17 January 2020   \n",
       "186  10:00, 21 December 2019   \n",
       "187  11:51, 11 December 2019   \n",
       "188     12:36, 23 April 2018   \n",
       "\n",
       "                                                  tags  \n",
       "0    Tagged: Asia Internet Coalition, Carrie Lam, C...  \n",
       "1    Tagged: Alan Wong, Billy Li, Community Sha Tin...  \n",
       "2    Tagged: Carrie Lam, Caspar Tsui, China Liaison...  \n",
       "3    Tagged: Apple Daily, Carrie Lam, Christophe De...  \n",
       "4             Tagged: Press Freedom, RTHK, Steve Vines  \n",
       "..                                                 ...  \n",
       "184  Tagged: Agnes Chow, Carrie Lam, Censorship, Ch...  \n",
       "185  Tagged: China Extradition, Education Bureau, F...  \n",
       "186  Tagged: China Extradition, Education Bureau, I...  \n",
       "187  Tagged: Carrie Lam, China Extradition, Educati...  \n",
       "188  Tagged: Demosisto, Education Bureau, Hong Kong...  \n",
       "\n",
       "[189 rows x 3 columns]"
      ]
     },
     "execution_count": 32,
     "metadata": {},
     "output_type": "execute_result"
    }
   ],
   "source": [
    "# check first & last 5 rows of the reshaped dataframe\n",
    "df_reshape.head()\n",
    "df_reshape.tail()"
   ]
  },
  {
   "cell_type": "code",
   "execution_count": 43,
   "metadata": {},
   "outputs": [],
   "source": [
    "#clean data\n",
    "df_reshape[\"title\"] = df_reshape.title.str.replace(\"\\t\\t\", \"\")"
   ]
  },
  {
   "cell_type": "code",
   "execution_count": 44,
   "metadata": {},
   "outputs": [
    {
     "data": {
      "text/html": [
       "<div>\n",
       "<style scoped>\n",
       "    .dataframe tbody tr th:only-of-type {\n",
       "        vertical-align: middle;\n",
       "    }\n",
       "\n",
       "    .dataframe tbody tr th {\n",
       "        vertical-align: top;\n",
       "    }\n",
       "\n",
       "    .dataframe thead th {\n",
       "        text-align: right;\n",
       "    }\n",
       "</style>\n",
       "<table border=\"1\" class=\"dataframe\">\n",
       "  <thead>\n",
       "    <tr style=\"text-align: right;\">\n",
       "      <th></th>\n",
       "      <th>title</th>\n",
       "      <th>date</th>\n",
       "      <th>tags</th>\n",
       "    </tr>\n",
       "  </thead>\n",
       "  <tbody>\n",
       "    <tr>\n",
       "      <th>0</th>\n",
       "      <td>Reports of tech giants threatening to leave Ho...</td>\n",
       "      <td>13:16, 7 July 2021</td>\n",
       "      <td>Asia Internet Coalition,Carrie Lam,Constituti...</td>\n",
       "    </tr>\n",
       "    <tr>\n",
       "      <th>1</th>\n",
       "      <td>Security law: At least 8 Hong Kong pro-democra...</td>\n",
       "      <td>08:00, 6 July 2021</td>\n",
       "      <td>Alan Wong,Billy Li,Community Sha Tin,Frontlin...</td>\n",
       "    </tr>\n",
       "    <tr>\n",
       "      <th>2</th>\n",
       "      <td>Hong Kong’s new number two handed second key r...</td>\n",
       "      <td>23:49, 6 July 2021</td>\n",
       "      <td>Carrie Lam,Caspar Tsui,China Liaison Office,C...</td>\n",
       "    </tr>\n",
       "    <tr>\n",
       "      <th>3</th>\n",
       "      <td>Chief Exec. Carrie Lam claims press freedom bo...</td>\n",
       "      <td>12:13, 6 July 2021</td>\n",
       "      <td>Apple Daily,Carrie Lam,Christophe Deloire,Cla...</td>\n",
       "    </tr>\n",
       "    <tr>\n",
       "      <th>4</th>\n",
       "      <td>The Pulse with Steve Vines is latest news show...</td>\n",
       "      <td>07:00, 5 July 2021</td>\n",
       "      <td>Press Freedom,RTHK,Steve Vines</td>\n",
       "    </tr>\n",
       "  </tbody>\n",
       "</table>\n",
       "</div>"
      ],
      "text/plain": [
       "                                               title                date  \\\n",
       "0  Reports of tech giants threatening to leave Ho...  13:16, 7 July 2021   \n",
       "1  Security law: At least 8 Hong Kong pro-democra...  08:00, 6 July 2021   \n",
       "2  Hong Kong’s new number two handed second key r...  23:49, 6 July 2021   \n",
       "3  Chief Exec. Carrie Lam claims press freedom bo...  12:13, 6 July 2021   \n",
       "4  The Pulse with Steve Vines is latest news show...  07:00, 5 July 2021   \n",
       "\n",
       "                                                tags  \n",
       "0   Asia Internet Coalition,Carrie Lam,Constituti...  \n",
       "1   Alan Wong,Billy Li,Community Sha Tin,Frontlin...  \n",
       "2   Carrie Lam,Caspar Tsui,China Liaison Office,C...  \n",
       "3   Apple Daily,Carrie Lam,Christophe Deloire,Cla...  \n",
       "4                     Press Freedom,RTHK,Steve Vines  "
      ]
     },
     "execution_count": 44,
     "metadata": {},
     "output_type": "execute_result"
    }
   ],
   "source": [
    "df_reshape.head(5)"
   ]
  },
  {
   "cell_type": "code",
   "execution_count": 45,
   "metadata": {},
   "outputs": [],
   "source": [
    "#save finalized df into a csv\n",
    "df_reshape.to_csv('news_final.csv', index=False)"
   ]
  },
  {
   "cell_type": "code",
   "execution_count": 74,
   "metadata": {},
   "outputs": [],
   "source": [
    "tags_count = df_reshape.tags.str.split(',').explode()\n",
    "tags_count = tags_count.groupby(tags_count).count().to_frame('count').reset_index()"
   ]
  },
  {
   "cell_type": "code",
   "execution_count": 79,
   "metadata": {},
   "outputs": [
    {
     "data": {
      "text/html": [
       "<div>\n",
       "<style scoped>\n",
       "    .dataframe tbody tr th:only-of-type {\n",
       "        vertical-align: middle;\n",
       "    }\n",
       "\n",
       "    .dataframe tbody tr th {\n",
       "        vertical-align: top;\n",
       "    }\n",
       "\n",
       "    .dataframe thead th {\n",
       "        text-align: right;\n",
       "    }\n",
       "</style>\n",
       "<table border=\"1\" class=\"dataframe\">\n",
       "  <thead>\n",
       "    <tr style=\"text-align: right;\">\n",
       "      <th></th>\n",
       "      <th>tags</th>\n",
       "      <th>count</th>\n",
       "    </tr>\n",
       "  </thead>\n",
       "  <tbody>\n",
       "    <tr>\n",
       "      <th>293</th>\n",
       "      <td>National Security</td>\n",
       "      <td>95</td>\n",
       "    </tr>\n",
       "    <tr>\n",
       "      <th>327</th>\n",
       "      <td>Press Freedom</td>\n",
       "      <td>88</td>\n",
       "    </tr>\n",
       "    <tr>\n",
       "      <th>23</th>\n",
       "      <td>Apple Daily</td>\n",
       "      <td>56</td>\n",
       "    </tr>\n",
       "    <tr>\n",
       "      <th>228</th>\n",
       "      <td>Jimmy Lai</td>\n",
       "      <td>51</td>\n",
       "    </tr>\n",
       "    <tr>\n",
       "      <th>332</th>\n",
       "      <td>RTHK</td>\n",
       "      <td>43</td>\n",
       "    </tr>\n",
       "    <tr>\n",
       "      <th>...</th>\n",
       "      <td>...</td>\n",
       "      <td>...</td>\n",
       "    </tr>\n",
       "    <tr>\n",
       "      <th>183</th>\n",
       "      <td>Handover</td>\n",
       "      <td>1</td>\n",
       "    </tr>\n",
       "    <tr>\n",
       "      <th>181</th>\n",
       "      <td>HKDSE</td>\n",
       "      <td>1</td>\n",
       "    </tr>\n",
       "    <tr>\n",
       "      <th>179</th>\n",
       "      <td>Gwyneth Ho</td>\n",
       "      <td>1</td>\n",
       "    </tr>\n",
       "    <tr>\n",
       "      <th>177</th>\n",
       "      <td>Grandma Wong</td>\n",
       "      <td>1</td>\n",
       "    </tr>\n",
       "    <tr>\n",
       "      <th>459</th>\n",
       "      <td>yeung sum</td>\n",
       "      <td>1</td>\n",
       "    </tr>\n",
       "  </tbody>\n",
       "</table>\n",
       "<p>460 rows × 2 columns</p>\n",
       "</div>"
      ],
      "text/plain": [
       "                  tags  count\n",
       "293  National Security     95\n",
       "327      Press Freedom     88\n",
       "23         Apple Daily     56\n",
       "228          Jimmy Lai     51\n",
       "332               RTHK     43\n",
       "..                 ...    ...\n",
       "183           Handover      1\n",
       "181              HKDSE      1\n",
       "179         Gwyneth Ho      1\n",
       "177       Grandma Wong      1\n",
       "459          yeung sum      1\n",
       "\n",
       "[460 rows x 2 columns]"
      ]
     },
     "execution_count": 79,
     "metadata": {},
     "output_type": "execute_result"
    }
   ],
   "source": [
    "#count the occurences of different tags and sort them\n",
    "tags_count.sort_values(by=['count'], ascending=False)"
   ]
  },
  {
   "cell_type": "code",
   "execution_count": 80,
   "metadata": {},
   "outputs": [],
   "source": [
    "#save this dataframe to csv file\n",
    "tags_count.to_csv('tags_count.csv', index=False)"
   ]
  }
 ],
 "metadata": {
  "interpreter": {
   "hash": "aee8b7b246df8f9039afb4144a1f6fd8d2ca17a180786b69acc140d282b71a49"
  },
  "kernelspec": {
   "display_name": "Python 3.8.0 64-bit",
   "name": "python3"
  },
  "language_info": {
   "name": "python",
   "version": ""
  },
  "orig_nbformat": 4
 },
 "nbformat": 4,
 "nbformat_minor": 2
}